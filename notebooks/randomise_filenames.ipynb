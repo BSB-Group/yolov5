{
 "cells": [
  {
   "cell_type": "code",
   "execution_count": 1,
   "metadata": {},
   "outputs": [],
   "source": [
    "import os\n",
    "import random\n",
    "import string\n",
    "from tqdm import tqdm"
   ]
  },
  {
   "cell_type": "code",
   "execution_count": 4,
   "metadata": {},
   "outputs": [],
   "source": [
    "# get img paths and label paths\n",
    "dataset_dir = \"./datasets/T8bit_minmax_159k_09-03-2023/\"\n",
    "val_img_dir = os.path.join(dataset_dir, \"images\", \"val\")\n",
    "val_lbl_dir = os.path.join(dataset_dir, \"labels\", \"val\")"
   ]
  },
  {
   "cell_type": "code",
   "execution_count": 5,
   "metadata": {},
   "outputs": [
    {
     "name": "stdout",
     "output_type": "stream",
     "text": [
      "Seems like the images and labels are already randomised.\n"
     ]
    }
   ],
   "source": [
    "def random_alphanum_string(length=2):\n",
    "    alphanum = string.ascii_lowercase + string.digits\n",
    "    return ''.join(random.choice(alphanum) for i in range(length))\n",
    "\n",
    "img_fnames = sorted(os.listdir(val_img_dir))\n",
    "lbl_fnames = sorted(os.listdir(val_lbl_dir))\n",
    "\n",
    "if len(img_fnames[0].split('_')[0]) <= 2:\n",
    "    print(\"Seems like the images and labels are already randomised.\")\n",
    "else:\n",
    "    random.seed(42)\n",
    "    for img_fname, lbl_fname in tqdm(zip(img_fnames, lbl_fnames), total=len(lbl_fnames)):\n",
    "        # create random prefix for img and lbl of constant length\n",
    "        prefix = random_alphanum_string()\n",
    "        # rename img and lbl\n",
    "        os.rename(os.path.join(val_img_dir, img_fname), os.path.join(val_img_dir, f'{prefix}_{img_fname}'))\n",
    "        os.rename(os.path.join(val_lbl_dir, lbl_fname), os.path.join(val_lbl_dir, f'{prefix}_{lbl_fname}'))"
   ]
  },
  {
   "cell_type": "code",
   "execution_count": 22,
   "metadata": {},
   "outputs": [
    {
     "name": "stderr",
     "output_type": "stream",
     "text": [
      "100%|██████████| 6241/6241 [00:00<00:00, 58148.24it/s]\n"
     ]
    }
   ],
   "source": [
    "# undo\n",
    "img_fnames = sorted(os.listdir(val_img_dir))\n",
    "lbl_fnames = sorted(os.listdir(val_lbl_dir))\n",
    "\n",
    "for img_fname, lbl_fname in tqdm(zip(img_fnames, lbl_fnames), total=len(lbl_fnames)):\n",
    "    # create random prefix for img and lbl of constant length\n",
    "    prefix = random_alphanum_string()\n",
    "    # rename img and lbl\n",
    "    os.rename(os.path.join(val_img_dir, img_fname), os.path.join(val_img_dir, img_fname[3:]))\n",
    "    os.rename(os.path.join(val_lbl_dir, lbl_fname), os.path.join(val_lbl_dir, lbl_fname[3:]))"
   ]
  },
  {
   "cell_type": "code",
   "execution_count": null,
   "metadata": {},
   "outputs": [],
   "source": []
  }
 ],
 "metadata": {
  "kernelspec": {
   "display_name": "yolo",
   "language": "python",
   "name": "yolo"
  },
  "language_info": {
   "codemirror_mode": {
    "name": "ipython",
    "version": 3
   },
   "file_extension": ".py",
   "mimetype": "text/x-python",
   "name": "python",
   "nbconvert_exporter": "python",
   "pygments_lexer": "ipython3",
   "version": "3.9.16"
  }
 },
 "nbformat": 4,
 "nbformat_minor": 4
}
