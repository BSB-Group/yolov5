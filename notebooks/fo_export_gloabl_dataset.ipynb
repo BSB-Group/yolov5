{
 "cells": [
  {
   "cell_type": "code",
   "execution_count": 1,
   "metadata": {},
   "outputs": [
    {
     "data": {
      "text/plain": [
       "['DEBBUG_VIDEOS_DATASET',\n",
       " 'SAILING_DATASET',\n",
       " 'SAILING_DATASET_QA',\n",
       " 'SEGMENTATION_DATASET',\n",
       " 'SENTRY_IMAGES_SUBSAMPLE',\n",
       " 'SENTRY_VIDEOS_DATASET_ALL',\n",
       " 'SENTRY_VIDEOS_DATASET_DEV',\n",
       " 'SENTRY_VIDEOS_DATASET_QA',\n",
       " 'SUN_REFLECTION_DATASET',\n",
       " 'TRAIN_THERMAL_DATASET_2023_06']"
      ]
     },
     "execution_count": 1,
     "metadata": {},
     "output_type": "execute_result"
    }
   ],
   "source": [
    "import os \n",
    "os.environ[\"FIFTYONE_CONFIG_PATH\"] = os.path.join(os.path.expanduser('~'), \".fiftyone\", \"config.global_mongodb.json\")\n",
    "\n",
    "import fiftyone as fo\n",
    "fo.list_datasets()"
   ]
  },
  {
   "cell_type": "code",
   "execution_count": 2,
   "metadata": {},
   "outputs": [],
   "source": [
    "DATASET_NAME = 'SENTRY_VIDEOS_DATASET_QA'\n",
    "EXPORT_DIR = os.path.join('/media/jigglypuff/NieuwVolume2', DATASET_NAME)"
   ]
  },
  {
   "cell_type": "code",
   "execution_count": 4,
   "metadata": {},
   "outputs": [
    {
     "name": "stdout",
     "output_type": "stream",
     "text": [
      "Exporting samples...\n"
     ]
    },
    {
     "name": "stdout",
     "output_type": "stream",
     "text": [
      " 100% |████████████████████| 122/122 [87.9ms elapsed, 0s remaining, 1.4K docs/s] \n",
      "Exporting frames...\n",
      " 100% |██████████████| 526281/526281 [8.4m elapsed, 0s remaining, 6.4K docs/s]      \n"
     ]
    }
   ],
   "source": [
    "dataset = fo.load_dataset(DATASET_NAME)\n",
    "dataset.export(\n",
    "    export_dir=EXPORT_DIR,\n",
    "    dataset_type=fo.types.FiftyOneDataset,\n",
    "    export_media=False,\n",
    ")"
   ]
  },
  {
   "cell_type": "code",
   "execution_count": 1,
   "metadata": {},
   "outputs": [
    {
     "name": "stdout",
     "output_type": "stream",
     "text": [
      "Importing samples...\n",
      " 100% |█████████████████| 122/122 [12.0ms elapsed, 0s remaining, 10.2K samples/s]      \n",
      "Importing frames...\n",
      " 100% |███████████| 526281/526281 [1.2m elapsed, 0s remaining, 19.9K samples/s]      \n",
      "Import complete\n"
     ]
    },
    {
     "data": {
      "text/plain": [
       "Name:        SENTRY_VIDEOS_DATASET_QA\n",
       "Media type:  group\n",
       "Group slice: thermal_wide\n",
       "Num groups:  61\n",
       "Persistent:  True\n",
       "Tags:        []\n",
       "Sample fields:\n",
       "    id:                   fiftyone.core.fields.ObjectIdField\n",
       "    filepath:             fiftyone.core.fields.StringField\n",
       "    tags:                 fiftyone.core.fields.ListField(fiftyone.core.fields.StringField)\n",
       "    metadata:             fiftyone.core.fields.EmbeddedDocumentField(fiftyone.core.metadata.Metadata)\n",
       "    created_at:           fiftyone.core.fields.DateTimeField\n",
       "    group:                fiftyone.core.fields.EmbeddedDocumentField(fiftyone.core.groups.Group)\n",
       "    pipeline_description: fiftyone.core.fields.StringField\n",
       "    sequence:             fiftyone.core.fields.StringField\n",
       "    trip:                 fiftyone.core.fields.StringField\n",
       "    sensorsData:          fiftyone.core.fields.EmbeddedDocumentField(custom_embedded_files.SentrySensorsDataEmbeddedDocument)\n",
       "    sea_state:            fiftyone.core.fields.StringField\n",
       "    deltaT:               fiftyone.core.fields.FloatField\n",
       "    weather:              fiftyone.core.fields.StringField\n",
       "    region:               fiftyone.core.fields.StringField\n",
       "Frame fields:\n",
       "    id:                                   fiftyone.core.fields.ObjectIdField\n",
       "    frame_number:                         fiftyone.core.fields.FrameNumberField\n",
       "    boatBusData:                          fiftyone.core.fields.EmbeddedDocumentField(custom_embedded_files.SentryBoatBusDataEmbeddedDocument)\n",
       "    location:                             fiftyone.core.fields.EmbeddedDocumentField(fiftyone.core.labels.GeoLocation)\n",
       "    region:                               fiftyone.core.fields.StringField\n",
       "    ground_truth_det:                     fiftyone.core.fields.EmbeddedDocumentField(fiftyone.core.labels.Detections)\n",
       "    ground_truth_pl:                      fiftyone.core.fields.EmbeddedDocumentField(fiftyone.core.labels.Polylines)\n",
       "    weather:                              fiftyone.core.fields.StringField\n",
       "    03_10_2022_N_LN1_ep48_FT:             fiftyone.core.fields.EmbeddedDocumentField(fiftyone.core.labels.Detections)\n",
       "    det_API_unstab_Sentry_v3_0:           fiftyone.core.fields.EmbeddedDocumentField(fiftyone.core.labels.Detections)\n",
       "    annotations_sf:                       fiftyone.core.fields.EmbeddedDocumentField(fiftyone.core.labels.Detections)\n",
       "    Train_28_06_21_Data_17_04_2021__ep25: fiftyone.core.fields.EmbeddedDocumentField(fiftyone.core.labels.Detections)\n",
       "    QA_Tool_CNN_Clients:                  fiftyone.core.fields.EmbeddedDocumentField(fiftyone.core.labels.Detections)\n",
       "    QA_Tool_Tracker_Clients:              fiftyone.core.fields.EmbeddedDocumentField(fiftyone.core.labels.Detections)\n",
       "    test_demo:                            fiftyone.core.fields.EmbeddedDocumentField(fiftyone.core.labels.Detections)\n",
       "    volcanic-sweep-3_02_2023_N_LN1_ep288: fiftyone.core.fields.EmbeddedDocumentField(fiftyone.core.labels.Detections)\n",
       "    yolov5n_T16-8_D2306-v0_9C:            fiftyone.core.fields.EmbeddedDocumentField(fiftyone.core.labels.Detections)\n",
       "    det_API_unstab_New_Tracker:           fiftyone.core.fields.EmbeddedDocumentField(fiftyone.core.labels.Detections)\n",
       "    det_API_unstab_New_Tracker_v3_3:      fiftyone.core.fields.EmbeddedDocumentField(fiftyone.core.labels.Detections)\n",
       "    det_API_unstab_Sentry_v3_2:           fiftyone.core.fields.EmbeddedDocumentField(fiftyone.core.labels.Detections)"
      ]
     },
     "execution_count": 1,
     "metadata": {},
     "output_type": "execute_result"
    }
   ],
   "source": [
    "# # NOTE: restart notebook kernel to load it into local db\n",
    "# import os\n",
    "# import fiftyone as fo\n",
    "\n",
    "# DATASET_NAME = 'SENTRY_VIDEOS_DATASET_QA'\n",
    "# EXPORT_DIR = os.path.join('/media/jigglypuff/NieuwVolume2', DATASET_NAME)\n",
    "\n",
    "# if DATASET_NAME in fo.list_datasets():\n",
    "#     fo.delete_dataset(DATASET_NAME)\n",
    "\n",
    "# fo.Dataset.from_dir(\n",
    "#     dataset_dir=EXPORT_DIR,\n",
    "#     dataset_type=fo.types.FiftyOneDataset,\n",
    "#     name=DATASET_NAME,\n",
    "#     persistent=True\n",
    "# )"
   ]
  },
  {
   "cell_type": "code",
   "execution_count": null,
   "metadata": {},
   "outputs": [],
   "source": []
  }
 ],
 "metadata": {
  "kernelspec": {
   "display_name": "AI",
   "language": "python",
   "name": "python3"
  },
  "language_info": {
   "codemirror_mode": {
    "name": "ipython",
    "version": 3
   },
   "file_extension": ".py",
   "mimetype": "text/x-python",
   "name": "python",
   "nbconvert_exporter": "python",
   "pygments_lexer": "ipython3",
   "version": "3.10.11"
  },
  "orig_nbformat": 4
 },
 "nbformat": 4,
 "nbformat_minor": 2
}
