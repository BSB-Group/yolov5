{
 "cells": [
  {
   "cell_type": "code",
   "execution_count": 1,
   "metadata": {},
   "outputs": [
    {
     "data": {
      "text/plain": [
       "['DEBBUG_VIDEOS_DATASET',\n",
       " 'SAILING_DATASET',\n",
       " 'SAILING_DATASET_QA',\n",
       " 'SEGMENTATION_DATASET',\n",
       " 'SENTRY_IMAGES_SUBSAMPLE',\n",
       " 'SENTRY_VIDEOS_DATASET_ALL',\n",
       " 'SENTRY_VIDEOS_DATASET_DEV',\n",
       " 'SENTRY_VIDEOS_DATASET_QA',\n",
       " 'SUN_REFLECTION_DATASET',\n",
       " 'TRAIN_THERMAL_DATASET_2023_06']"
      ]
     },
     "execution_count": 1,
     "metadata": {},
     "output_type": "execute_result"
    }
   ],
   "source": [
    "import os \n",
    "os.environ[\"FIFTYONE_CONFIG_PATH\"] = os.path.join(os.path.expanduser('~'), \".fiftyone\", \"config.global_mongodb.json\")\n",
    "\n",
    "import fiftyone as fo\n",
    "fo.list_datasets()"
   ]
  },
  {
   "cell_type": "code",
   "execution_count": 2,
   "metadata": {},
   "outputs": [],
   "source": [
    "DATASET_NAME = 'SAILING_DATASET_QA'\n",
    "EXPORT_DIR = os.path.join('/media/jigglypuff/NieuwVolume2', DATASET_NAME)"
   ]
  },
  {
   "cell_type": "code",
   "execution_count": 3,
   "metadata": {},
   "outputs": [
    {
     "name": "stdout",
     "output_type": "stream",
     "text": [
      "Exporting samples...\n",
      " 100% |████████████| 1191966/1191966 [13.2m elapsed, 0s remaining, 2.3K docs/s]      \n"
     ]
    }
   ],
   "source": [
    "dataset = fo.load_dataset(DATASET_NAME)\n",
    "dataset.export(\n",
    "    export_dir=EXPORT_DIR,\n",
    "    dataset_type=fo.types.FiftyOneDataset,\n",
    "    export_media=False,\n",
    ")"
   ]
  },
  {
   "cell_type": "code",
   "execution_count": 1,
   "metadata": {},
   "outputs": [
    {
     "name": "stdout",
     "output_type": "stream",
     "text": [
      "Importing samples...\n",
      " 100% |█████████| 1191966/1191966 [1.7m elapsed, 0s remaining, 6.7K samples/s]      \n",
      "Import complete\n"
     ]
    },
    {
     "data": {
      "text/plain": [
       "Name:        SAILING_DATASET_QA\n",
       "Media type:  group\n",
       "Group slice: thermal_left\n",
       "Num groups:  397322\n",
       "Persistent:  True\n",
       "Tags:        []\n",
       "Sample fields:\n",
       "    id:                                   fiftyone.core.fields.ObjectIdField\n",
       "    filepath:                             fiftyone.core.fields.StringField\n",
       "    tags:                                 fiftyone.core.fields.ListField(fiftyone.core.fields.StringField)\n",
       "    metadata:                             fiftyone.core.fields.EmbeddedDocumentField(fiftyone.core.metadata.Metadata)\n",
       "    created_at:                           fiftyone.core.fields.DateTimeField\n",
       "    group:                                fiftyone.core.fields.EmbeddedDocumentField(fiftyone.core.groups.Group)\n",
       "    mean_intensity:                       fiftyone.core.fields.FloatField\n",
       "    median_intensity:                     fiftyone.core.fields.FloatField\n",
       "    ground_truth_det:                     fiftyone.core.fields.EmbeddedDocumentField(fiftyone.core.labels.Detections)\n",
       "    ground_truth_pl:                      fiftyone.core.fields.EmbeddedDocumentField(fiftyone.core.labels.Polylines)\n",
       "    camera_name:                          fiftyone.core.fields.StringField\n",
       "    sequence:                             fiftyone.core.fields.StringField\n",
       "    trip:                                 fiftyone.core.fields.StringField\n",
       "    sql_id:                               fiftyone.core.fields.IntField\n",
       "    boatBusData:                          fiftyone.core.fields.EmbeddedDocumentField(custom_embedded_files.BoatBusDataEmbeddedDocument)\n",
       "    imuData:                              fiftyone.core.fields.EmbeddedDocumentField(custom_embedded_files.ImuDataEmbeddedDocument)\n",
       "    sensorsData:                          fiftyone.core.fields.EmbeddedDocumentField(custom_embedded_files.SensorsEmbeddedDocument)\n",
       "    timestamp:                            fiftyone.core.fields.FloatField\n",
       "    region:                               fiftyone.core.fields.StringField\n",
       "    weather:                              fiftyone.core.fields.StringField\n",
       "    uniqueness:                           fiftyone.core.fields.FloatField\n",
       "    camera_height:                        fiftyone.core.fields.FloatField\n",
       "    location:                             fiftyone.core.fields.EmbeddedDocumentField(fiftyone.core.labels.GeoLocation)\n",
       "    Train_28_06_21_Data_17_04_2021__ep25: fiftyone.core.fields.EmbeddedDocumentField(fiftyone.core.labels.Detections)\n",
       "    03_10_2022_N_LN1_ep48_FT:             fiftyone.core.fields.EmbeddedDocumentField(fiftyone.core.labels.Detections)\n",
       "    SAILING_23Q2-v2_yolov5n6_2S:          fiftyone.core.fields.EmbeddedDocumentField(fiftyone.core.labels.Detections)\n",
       "    ssd_mobilenet_v2_agnostic:            fiftyone.core.fields.EmbeddedDocumentField(fiftyone.core.labels.Detections)\n",
       "    volcanic-sweep-3_02_2023_N_LN1_ep288: fiftyone.core.fields.EmbeddedDocumentField(fiftyone.core.labels.Detections)\n",
       "    yolov5n_T16-8_D2306-v0_9C:            fiftyone.core.fields.EmbeddedDocumentField(fiftyone.core.labels.Detections)"
      ]
     },
     "execution_count": 1,
     "metadata": {},
     "output_type": "execute_result"
    }
   ],
   "source": [
    "# NOTE: restart notebook kernel to load it into local db\n",
    "import os\n",
    "import fiftyone as fo\n",
    "\n",
    "DATASET_NAME = 'SAILING_DATASET_QA'\n",
    "EXPORT_DIR = os.path.join('/media/jigglypuff/NieuwVolume2', DATASET_NAME)\n",
    "\n",
    "if DATASET_NAME in fo.list_datasets():\n",
    "    fo.delete_dataset(DATASET_NAME)\n",
    "\n",
    "fo.Dataset.from_dir(\n",
    "    dataset_dir=EXPORT_DIR,\n",
    "    dataset_type=fo.types.FiftyOneDataset,\n",
    "    name=DATASET_NAME,\n",
    "    persistent=True\n",
    ")"
   ]
  },
  {
   "cell_type": "code",
   "execution_count": null,
   "metadata": {},
   "outputs": [],
   "source": []
  }
 ],
 "metadata": {
  "kernelspec": {
   "display_name": "AI",
   "language": "python",
   "name": "python3"
  },
  "language_info": {
   "codemirror_mode": {
    "name": "ipython",
    "version": 3
   },
   "file_extension": ".py",
   "mimetype": "text/x-python",
   "name": "python",
   "nbconvert_exporter": "python",
   "pygments_lexer": "ipython3",
   "version": "3.10.11"
  },
  "orig_nbformat": 4
 },
 "nbformat": 4,
 "nbformat_minor": 2
}
