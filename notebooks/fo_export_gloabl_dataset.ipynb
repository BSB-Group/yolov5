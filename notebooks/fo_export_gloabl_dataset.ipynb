{
 "cells": [
  {
   "cell_type": "code",
   "execution_count": 1,
   "metadata": {},
   "outputs": [
    {
     "data": {
      "text/plain": [
       "['SAILING_DATASET',\n",
       " 'SAILING_DATASET_QA',\n",
       " 'SEGMENTATION_DATASET',\n",
       " 'SEGMENTATION_DATASET_SAM',\n",
       " 'SENTRY_DATASET',\n",
       " 'SENTRY_SUBSAMPLE_FEB_FRANCE_1',\n",
       " 'SENTRY_SUBSAMPLE_FEB_FRANCE_2',\n",
       " 'SENTRY_SUBSAMPLE_FEB_FRANCE_3',\n",
       " 'SENTRY_SUBSAMPLE_ROMANIA',\n",
       " 'SENTRY_VIDEOS_DATASET_ALL',\n",
       " 'SENTRY_VIDEOS_DATASET_QA',\n",
       " 'SUN_REFLECTION_DATASET',\n",
       " 'TRAIN_THERMAL_DATASET_2023_06',\n",
       " 'temp_TRAIN_THERMAL_DATASET_2023_06']"
      ]
     },
     "execution_count": 1,
     "metadata": {},
     "output_type": "execute_result"
    }
   ],
   "source": [
    "import os \n",
    "os.environ[\"FIFTYONE_CONFIG_PATH\"] = os.path.join(os.path.expanduser('~'), \".fiftyone\", \"config.global_mongodb.json\")\n",
    "\n",
    "import fiftyone as fo\n",
    "fo.list_datasets()"
   ]
  },
  {
   "cell_type": "code",
   "execution_count": 2,
   "metadata": {},
   "outputs": [],
   "source": [
    "DATASET_NAME = 'TRAIN_THERMAL_DATASET_2023_06'\n",
    "EXPORT_DIR = os.path.join('/media/jigglypuff/NieuwVolume2', DATASET_NAME)"
   ]
  },
  {
   "cell_type": "code",
   "execution_count": 3,
   "metadata": {},
   "outputs": [
    {
     "name": "stdout",
     "output_type": "stream",
     "text": [
      "Exporting samples...\n",
      " 100% |████████████████| 55291/55291 [18.0s elapsed, 0s remaining, 6.8K docs/s]      \n"
     ]
    }
   ],
   "source": [
    "dataset = fo.load_dataset(DATASET_NAME)\n",
    "dataset.export(\n",
    "    export_dir=EXPORT_DIR,\n",
    "    dataset_type=fo.types.FiftyOneDataset,\n",
    "    export_media=False,\n",
    ")"
   ]
  }
 ],
 "metadata": {
  "kernelspec": {
   "display_name": "AI",
   "language": "python",
   "name": "python3"
  },
  "language_info": {
   "codemirror_mode": {
    "name": "ipython",
    "version": 3
   },
   "file_extension": ".py",
   "mimetype": "text/x-python",
   "name": "python",
   "nbconvert_exporter": "python",
   "pygments_lexer": "ipython3",
   "version": "3.10.11"
  },
  "orig_nbformat": 4
 },
 "nbformat": 4,
 "nbformat_minor": 2
}
