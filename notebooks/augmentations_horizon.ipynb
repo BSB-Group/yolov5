{
 "cells": [
  {
   "cell_type": "code",
   "execution_count": 1,
   "metadata": {},
   "outputs": [],
   "source": [
    "%reload_ext autoreload\n",
    "%autoreload 2"
   ]
  },
  {
   "cell_type": "code",
   "execution_count": 2,
   "metadata": {},
   "outputs": [],
   "source": [
    "import sys\n",
    "sys.path.append('..')"
   ]
  },
  {
   "cell_type": "code",
   "execution_count": null,
   "metadata": {},
   "outputs": [],
   "source": [
    "import cv2\n",
    "import numpy as np\n",
    "from PIL import Image\n",
    "import horizon.transforms as T\n",
    "\n",
    "ir16 = cv2.imread(\n",
    "    \"/mnt/fiftyoneDB/Database/Image_Data/Thermal_Images_16Bit/Trip_310_Seq_153/23714953_r.png\",\n",
    "    cv2.IMREAD_UNCHANGED,\n",
    ")\n",
    "transform = T.horizon_augment_ir16bit(imgsz=640, im_compression_prob=0.9)\n",
    "im1 = (transform(image=ir16)[\"image\"].numpy().transpose(1, 2, 0) * 255).astype(np.uint8)\n",
    "\n",
    "transform = T.horizon_base_ir16bit(imgsz=640)\n",
    "im2 = (transform(image=ir16)[\"image\"].numpy().transpose(1, 2, 0) * 255).astype(np.uint8)\n",
    "\n",
    "rgb = cv2.cvtColor(cv2.imread(\n",
    "    \"/mnt/fiftyoneDB/Database/Image_Data/RGB_Images/Trip_310_Seq_153/23714953.jpg\",\n",
    "), cv2.COLOR_BGR2RGB)\n",
    "transform = T.horizon_augment_rgb(imgsz=640, im_compression_prob=0.9)\n",
    "im3 = (transform(image=rgb)[\"image\"].numpy().transpose(1, 2, 0) * 255).astype(np.uint8)\n",
    "\n",
    "transform = T.horizon_base_rgb(imgsz=640)\n",
    "im4 = (transform(image=rgb)[\"image\"].numpy().transpose(1, 2, 0) * 255).astype(np.uint8)\n",
    "\n",
    "# stack in 2x2 grid\n",
    "im = np.vstack([np.hstack([im1, im2]), np.hstack([im3, im4])])\n",
    "Image.fromarray(im).reduce(2)\n"
   ]
  },
  {
   "cell_type": "code",
   "execution_count": 6,
   "metadata": {},
   "outputs": [],
   "source": [
    "from seavision.improc16 import DefaultThermalTransform\n",
    "\n",
    "ir8 = DefaultThermalTransform()(ir16)"
   ]
  },
  {
   "cell_type": "code",
   "execution_count": null,
   "metadata": {},
   "outputs": [],
   "source": [
    "import albumentations as A\n",
    "import utils.albumextensions as Ax\n",
    "\n",
    "transform = A.Compose(\n",
    "    [\n",
    "        A.RandomCropFromBorders(p=0.1),\n",
    "        Ax.ResizeIfNeeded(max_size=640),\n",
    "        A.HorizontalFlip(p=0.5),\n",
    "        A.PadIfNeeded(\n",
    "            min_height=640, min_width=640, border_mode=cv2.BORDER_CONSTANT, value=0\n",
    "        ),\n",
    "        # A.RandomScale(scale_limit=0.25, p=1),\n",
    "        A.Affine(\n",
    "            p=0.75,\n",
    "            scale=(0.8, 1.1),\n",
    "            rotate=(-20, 20),\n",
    "            translate_percent=(-0.1, 0.1),\n",
    "            balanced_scale=True,\n",
    "            keep_ratio=True,\n",
    "            fit_output=False,\n",
    "            mode=cv2.BORDER_CONSTANT,\n",
    "            cval=0,\n",
    "        ),\n",
    "        # A.RandomResizedCrop(p=1, size=(640, 640), ratio=(1,1), scale=(0.5, 1.0)),\n",
    "    ]\n",
    ")\n",
    "transformed = transform(image=ir8)[\"image\"]\n",
    "print(transformed.shape, f\"aspect ratio: {transformed.shape[1] / transformed.shape[0]}\")\n",
    "Image.fromarray(transformed)"
   ]
  },
  {
   "cell_type": "code",
   "execution_count": null,
   "metadata": {},
   "outputs": [],
   "source": []
  }
 ],
 "metadata": {
  "kernelspec": {
   "display_name": "AI",
   "language": "python",
   "name": "python3"
  },
  "language_info": {
   "codemirror_mode": {
    "name": "ipython",
    "version": 3
   },
   "file_extension": ".py",
   "mimetype": "text/x-python",
   "name": "python",
   "nbconvert_exporter": "python",
   "pygments_lexer": "ipython3",
   "version": "3.12.2"
  }
 },
 "nbformat": 4,
 "nbformat_minor": 2
}
