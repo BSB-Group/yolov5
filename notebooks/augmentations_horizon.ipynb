{
 "cells": [
  {
   "cell_type": "code",
   "execution_count": 1,
   "metadata": {},
   "outputs": [],
   "source": [
    "%reload_ext autoreload\n",
    "%autoreload 2"
   ]
  },
  {
   "cell_type": "code",
   "execution_count": 2,
   "metadata": {},
   "outputs": [],
   "source": [
    "import sys\n",
    "sys.path.append('..')"
   ]
  },
  {
   "cell_type": "code",
   "execution_count": null,
   "metadata": {},
   "outputs": [],
   "source": [
    "import cv2\n",
    "import numpy as np\n",
    "from PIL import Image\n",
    "import horizon.transforms as T\n",
    "\n",
    "ir16 = cv2.imread(\n",
    "    \"/mnt/fiftyoneDB/Database/Image_Data/Thermal_Images_16Bit/Trip_310_Seq_153/23714953_r.png\",\n",
    "    cv2.IMREAD_UNCHANGED,\n",
    ")\n",
    "transform = T.horizon_augment_ir16bit(imgsz=640, im_compression_prob=0.9)\n",
    "im1 = (transform(image=ir16)[\"image\"].numpy().transpose(1, 2, 0) * 255).astype(np.uint8)\n",
    "\n",
    "transform = T.horizon_base_ir16bit(imgsz=640)\n",
    "im2 = (transform(image=ir16)[\"image\"].numpy().transpose(1, 2, 0) * 255).astype(np.uint8)\n",
    "\n",
    "rgb = cv2.imread(\n",
    "    \"/mnt/fiftyoneDB/Database/Image_Data/RGB_Images/Trip_310_Seq_153/23714953.jpg\",\n",
    "    cv2.IMREAD_UNCHANGED\n",
    ")\n",
    "transform = T.horizon_augment_rgb(imgsz=640, im_compression_prob=0.9)\n",
    "im3 = (transform(image=rgb)[\"image\"].numpy().transpose(1, 2, 0) * 255).astype(np.uint8)\n",
    "\n",
    "transform = T.horizon_base_rgb(imgsz=640)\n",
    "im4 = (transform(image=rgb)[\"image\"].numpy().transpose(1, 2, 0) * 255).astype(np.uint8)\n",
    "\n",
    "# stack in 2x2 grid\n",
    "im = np.vstack([np.hstack([im1, im2]), np.hstack([im3, im4])])\n",
    "Image.fromarray(im).reduce(2)\n"
   ]
  },
  {
   "cell_type": "code",
   "execution_count": null,
   "metadata": {},
   "outputs": [],
   "source": []
  }
 ],
 "metadata": {
  "kernelspec": {
   "display_name": "AI",
   "language": "python",
   "name": "python3"
  },
  "language_info": {
   "codemirror_mode": {
    "name": "ipython",
    "version": 3
   },
   "file_extension": ".py",
   "mimetype": "text/x-python",
   "name": "python",
   "nbconvert_exporter": "python",
   "pygments_lexer": "ipython3",
   "version": "3.10.13"
  }
 },
 "nbformat": 4,
 "nbformat_minor": 2
}
